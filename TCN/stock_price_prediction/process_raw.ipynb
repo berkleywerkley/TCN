{
 "cells": [
  {
   "cell_type": "code",
   "execution_count": 94,
   "id": "7202340c-9ca9-4c13-873b-5a6b4b9925f2",
   "metadata": {},
   "outputs": [],
   "source": [
    "import pandas as pd\n",
    "import torch\n",
    "import random\n",
    "import numpy as np\n",
    "from torch.autograd import Variable"
   ]
  },
  {
   "cell_type": "code",
   "execution_count": 95,
   "id": "503bdafa-d300-482a-97a2-78d704fb9d13",
   "metadata": {},
   "outputs": [],
   "source": [
    "def get_data(fname):\n",
    "    df = pd.read_csv(fname)\n",
    "    df = df.drop(columns=[\"Date\", \"Close\"])\n",
    "    df = df.rename(columns={\"Adj Close\": \"Price\"})\n",
    "    shift = 1\n",
    "    df[\"Price T+1\"] = df[\"Price\"].shift(-1 * shift)\n",
    "    print(df.head())\n",
    "    df.drop(df.tail(shift).index, inplace=True)\n",
    "    as_array = df.to_numpy().transpose()\n",
    "    return np.array(as_array[0:5]), as_array[-1]\n",
    "\n",
    "\n",
    "def build_dataset(data_arrs, target_arr, num_test_cases, seq_length=300):\n",
    "    X = torch.zeros([num_test_cases, 5, seq_length])\n",
    "    y = torch.zeros([num_test_cases, 1])\n",
    "    for example_idx in range(num_test_cases):\n",
    "        starting_idx = random.randrange(0, len(data_arrs[0]) - seq_length)\n",
    "        end_idx = starting_idx + seq_length\n",
    "        random_sub_sequence = np.array([arr[starting_idx:end_idx] for arr in data_arrs])\n",
    "        if len(random_sub_sequence[0]) != seq_length:\n",
    "            raise (\"incorrect seq length\")\n",
    "        X[example_idx] = torch.from_numpy(random_sub_sequence)\n",
    "        y[example_idx] = target_arr[end_idx]\n",
    "    return Variable(X), Variable(y)"
   ]
  },
  {
   "cell_type": "code",
   "execution_count": 96,
   "id": "0ec633ea-5031-4a41-982a-86f033a6918c",
   "metadata": {},
   "outputs": [
    {
     "name": "stdout",
     "output_type": "stream",
     "text": [
      "       Open      High       Low     Price     Volume  Price T+1\n",
      "0  2.490664  2.591785  2.390042  2.499133  897427216   2.697639\n",
      "1  2.515820  2.716817  2.503118  2.697639  458857488   2.724787\n",
      "2  2.758411  2.826406  2.716070  2.724787  366857939   2.611960\n",
      "3  2.770615  2.779581  2.579581  2.611960  306396159   2.640104\n",
      "4  2.614201  2.689918  2.587302  2.640104  184645512   2.687676\n"
     ]
    }
   ],
   "source": [
    "data, target = get_data(\"GOOG.csv\")"
   ]
  },
  {
   "cell_type": "code",
   "execution_count": 98,
   "id": "2191c033-2ce6-4fe2-9116-0dee596370e2",
   "metadata": {},
   "outputs": [],
   "source": [
    "xs, ys = build_dataset(data, target, 100)"
   ]
  },
  {
   "cell_type": "code",
   "execution_count": 101,
   "id": "18feea60-b04e-414a-92ff-fd963848d7e8",
   "metadata": {},
   "outputs": [
    {
     "data": {
      "text/plain": [
       "tensor([[6.7181e+00, 6.7211e+00, 6.8874e+00,  ..., 1.3263e+01, 1.3438e+01,\n",
       "         1.3302e+01],\n",
       "        [6.9186e+00, 7.0077e+00, 7.0608e+00,  ..., 1.3499e+01, 1.3488e+01,\n",
       "         1.3395e+01],\n",
       "        [6.5400e+00, 6.6087e+00, 6.6942e+00,  ..., 1.3239e+01, 1.3327e+01,\n",
       "         1.3143e+01],\n",
       "        [6.8521e+00, 6.9597e+00, 6.8329e+00,  ..., 1.3287e+01, 1.3361e+01,\n",
       "         1.3311e+01],\n",
       "        [2.3446e+08, 2.3708e+08, 1.9620e+08,  ..., 1.0818e+08, 1.1321e+08,\n",
       "         1.0738e+08]])"
      ]
     },
     "execution_count": 101,
     "metadata": {},
     "output_type": "execute_result"
    }
   ],
   "source": [
    "xs[0]"
   ]
  },
  {
   "cell_type": "code",
   "execution_count": 102,
   "id": "22a1f714-8f44-4f1b-8bb1-6c6d610bf5c3",
   "metadata": {},
   "outputs": [
    {
     "data": {
      "text/plain": [
       "tensor([13.2782])"
      ]
     },
     "execution_count": 102,
     "metadata": {},
     "output_type": "execute_result"
    }
   ],
   "source": [
    "ys[0]"
   ]
  },
  {
   "cell_type": "code",
   "execution_count": null,
   "id": "c917a0b4-3af9-4fe1-8a56-88ac937f0195",
   "metadata": {},
   "outputs": [],
   "source": []
  }
 ],
 "metadata": {
  "kernelspec": {
   "display_name": "Python 3 (ipykernel)",
   "language": "python",
   "name": "python3"
  },
  "language_info": {
   "codemirror_mode": {
    "name": "ipython",
    "version": 3
   },
   "file_extension": ".py",
   "mimetype": "text/x-python",
   "name": "python",
   "nbconvert_exporter": "python",
   "pygments_lexer": "ipython3",
   "version": "3.10.9"
  }
 },
 "nbformat": 4,
 "nbformat_minor": 5
}
